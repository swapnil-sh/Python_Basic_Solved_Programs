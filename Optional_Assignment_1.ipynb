{
 "cells": [
  {
   "cell_type": "markdown",
   "metadata": {},
   "source": [
    "## 1. Write a function that inputs a number and prints the multiplication table of that number."
   ]
  },
  {
   "cell_type": "code",
   "execution_count": 2,
   "metadata": {},
   "outputs": [
    {
     "name": "stdout",
     "output_type": "stream",
     "text": [
      "Enter a number : 9\n",
      "9 x 0 = 0\n",
      "9 x 1 = 9\n",
      "9 x 2 = 18\n",
      "9 x 3 = 27\n",
      "9 x 4 = 36\n",
      "9 x 5 = 45\n",
      "9 x 6 = 54\n",
      "9 x 7 = 63\n",
      "9 x 8 = 72\n",
      "9 x 9 = 81\n"
     ]
    }
   ],
   "source": [
    "n = int(input(\"Enter a number : \"))\n",
    "\n",
    "def multtable(n):\n",
    "    for i in range(10):\n",
    "        print (\"{} x {} = {}\".format(n,i,n*i))\n",
    "        \n",
    "multtable(n)"
   ]
  },
  {
   "cell_type": "markdown",
   "metadata": {},
   "source": [
    "## 2. Write a program to print twin primes less than 1000. If two consecutive odd numbers are both prime then they are known as twin primes.\n"
   ]
  },
  {
   "cell_type": "code",
   "execution_count": 24,
   "metadata": {},
   "outputs": [
    {
     "name": "stdout",
     "output_type": "stream",
     "text": [
      "3 5\n",
      "5 7\n",
      "11 13\n",
      "17 19\n",
      "29 31\n",
      "41 43\n",
      "59 61\n",
      "71 73\n",
      "101 103\n",
      "107 109\n",
      "137 139\n",
      "149 151\n",
      "179 181\n",
      "191 193\n",
      "197 199\n",
      "227 229\n",
      "239 241\n",
      "269 271\n",
      "281 283\n",
      "311 313\n",
      "347 349\n",
      "419 421\n",
      "431 433\n",
      "461 463\n",
      "521 523\n",
      "569 571\n",
      "599 601\n",
      "617 619\n",
      "641 643\n",
      "659 661\n",
      "809 811\n",
      "821 823\n",
      "827 829\n",
      "857 859\n",
      "881 883\n"
     ]
    }
   ],
   "source": [
    "def prime(n):\n",
    "    flag=0\n",
    "    for i in range(2,(n//2)+1):\n",
    "         if (n%i) == 0: \n",
    "                flag=1\n",
    "                break\n",
    "\n",
    "    if flag==1:\n",
    "        return 0\n",
    "    else:\n",
    "        return 1\n",
    "        \n",
    "def twinprime():\n",
    "\n",
    "    for i in range(3,1001,2):\n",
    "        #print(i)\n",
    "        if i%2!=0:\n",
    "            if prime(i)==1 and prime(i+2)==1:\n",
    "                print(i,i+2)\n",
    "            \n",
    "          \n",
    "            \n",
    "twinprime()"
   ]
  },
  {
   "cell_type": "markdown",
   "metadata": {},
   "source": [
    "## 3.Write a program to find out the prime factors of a number. Example: prime factors of 56 - 2, 2, 2, 7"
   ]
  },
  {
   "cell_type": "code",
   "execution_count": 10,
   "metadata": {},
   "outputs": [
    {
     "name": "stdout",
     "output_type": "stream",
     "text": [
      "Enter a number..\n",
      "56\n",
      "2\n",
      "2\n",
      "2\n",
      "7\n"
     ]
    }
   ],
   "source": [
    "n = int(input(\"Enter a number..\\n\"))\n",
    "\n",
    "while n%2==0:\n",
    "    print(2)\n",
    "    n=n/2\n",
    "       \n",
    "for i in range(3, int(n//2)+1):    \n",
    "    while n % i == 0: \n",
    "        print(i)\n",
    "        n=n/i \n",
    " \n",
    "\n",
    "if n>2:\n",
    "    print(int(n))"
   ]
  },
  {
   "cell_type": "markdown",
   "metadata": {},
   "source": [
    "## 4.Write a program to implement these formulae of permutations and combinations. Number of permutations of n objects taken r at a time: p(n, r) = n! / (n-r)!. Number of combinations of n objects taken r at a time is: c(n, r) = n! / (r!*(n-r)!) = p(n,r) / r!"
   ]
  },
  {
   "cell_type": "code",
   "execution_count": 19,
   "metadata": {},
   "outputs": [
    {
     "name": "stdout",
     "output_type": "stream",
     "text": [
      "Enter the value of n...\n",
      "5\n",
      "Enter the value of r...\n",
      "2\n",
      "20 10\n"
     ]
    }
   ],
   "source": [
    "n = int(input(\"Enter the value of n...\\n\"))\n",
    "r = int(input(\"Enter the value of r...\\n\"))\n",
    "\n",
    "def fact(n):\n",
    "    if n == 1:\n",
    "        return 1\n",
    "    else:\n",
    "        return n*fact(n-1)\n",
    "    \n",
    "p = fact(n)/fact(n-r)\n",
    "c = fact(n)/(fact(r)*fact(n-r))\n",
    "\n",
    "print(int(p),int(c))\n",
    "    "
   ]
  },
  {
   "cell_type": "markdown",
   "metadata": {},
   "source": [
    "## 5.Write a function that converts a decimal number to binary number"
   ]
  },
  {
   "cell_type": "code",
   "execution_count": 49,
   "metadata": {},
   "outputs": [
    {
     "name": "stdout",
     "output_type": "stream",
     "text": [
      "Enter the decimal number...\n",
      "5\n",
      "Equivalent Binary Value = 101\n"
     ]
    }
   ],
   "source": [
    "n = int(input(\"Enter the decimal number...\\n\"))\n",
    "s=\"\"\n",
    "while n//2>=1:\n",
    "    #print(n%2, end =\" \")\n",
    "    s = str(n%2)+s\n",
    "    n=n//2\n",
    "    if n==1:\n",
    "        s=str(n)+s\n",
    "        break\n",
    "        \n",
    "print(\"Equivalent Binary Value = \" + s)\n",
    "    "
   ]
  },
  {
   "cell_type": "markdown",
   "metadata": {},
   "source": [
    "## 6.Write a function cubesum() that accepts an integer and returns the sum of the cubes of individual digits of that number. Use this function to make functions PrintArmstrong() and  isArmstrong() to print Armstrong numbers and to find whether is an Armstrong number."
   ]
  },
  {
   "cell_type": "code",
   "execution_count": 61,
   "metadata": {},
   "outputs": [
    {
     "name": "stdout",
     "output_type": "stream",
     "text": [
      "Enter a number...\n",
      "370\n",
      "Armstrong Number\n",
      "\n",
      "List of all Armstrong Numbers : \n",
      "\n",
      "153\n",
      "370\n",
      "371\n",
      "407\n"
     ]
    }
   ],
   "source": [
    "n = int(input(\"Enter a number...\\n\"))\n",
    "\n",
    "def cubesum(n):\n",
    "    s=0\n",
    "    while n>0:\n",
    "        d = n%10\n",
    "        s = s+d*d*d;\n",
    "        n = n//10\n",
    "    return s\n",
    "\n",
    "\n",
    "\n",
    "def isArmstrong(x):\n",
    "    y = cubesum(x)\n",
    "    if y == x:\n",
    "        return \"Armstrong Number\\n\"\n",
    "    else:\n",
    "        return \"Not an Armstrong Number\\n\"\n",
    "    \n",
    "    \n",
    "print(isArmstrong(n))\n",
    "    \n",
    "print(\"List of all Armstrong Numbers : \\n\")\n",
    "\n",
    "def PrintArmstrong(lower,upper):\n",
    "    for i in range(lower, upper + 1):\n",
    "        y = cubesum(i)\n",
    "        \n",
    "        if y == i:\n",
    "            print(i)\n",
    "    \n",
    "\n",
    "\n",
    "PrintArmstrong(100,1000)"
   ]
  },
  {
   "cell_type": "markdown",
   "metadata": {},
   "source": [
    "## 7.Write a function prodDigits() that inputs a number and returns the product of digits of that number."
   ]
  },
  {
   "cell_type": "code",
   "execution_count": 5,
   "metadata": {},
   "outputs": [
    {
     "name": "stdout",
     "output_type": "stream",
     "text": [
      "Enter a number...\n",
      "428\n",
      "64\n"
     ]
    }
   ],
   "source": [
    "n = int(input(\"Enter a number...\\n\"))\n",
    "\n",
    "def prodDigits(n):\n",
    "    \n",
    "    prod = 1\n",
    "    while n>0:\n",
    "        d = n%10\n",
    "        prod = prod*d\n",
    "        n=n//10\n",
    "    return prod\n",
    "    \n",
    "print(prodDigits(n))"
   ]
  },
  {
   "cell_type": "markdown",
   "metadata": {},
   "source": [
    "## 8. If all digits of a number n are multiplied by each other repeating with the product, the one digit number obtained at last is called the multiplicative digital root of n. The number of times digits need to be multiplied to reach one digit is called the multiplicative persistance of n. Example: 86 -> 48 -> 32 -> 6 (MDR 6, MPersistence 3) 341 -> 12->2(MDR 2, MPersistence 2) Using the function prodDigits() of previous exercise write functions MDR() and MPersistence() that input a number and return its multiplicative digital root and multiplicative persistence respectively"
   ]
  },
  {
   "cell_type": "code",
   "execution_count": 30,
   "metadata": {},
   "outputs": [
    {
     "name": "stdout",
     "output_type": "stream",
     "text": [
      "Enter a number...\n",
      "86\n",
      "MDR = 6\n",
      "MPersistence = 3\n"
     ]
    }
   ],
   "source": [
    "n = int(input(\"Enter a number...\\n\"))\n",
    "\n",
    "\n",
    "def prodDigits(n):\n",
    "    \n",
    "    prod = 1\n",
    "    \n",
    "    while n>0:\n",
    "        d = n%10\n",
    "        prod = prod*d\n",
    "        n=n//10\n",
    "    return prod\n",
    "\n",
    "def MDR(n):\n",
    "    if n//10 == 0:\n",
    "        return \"MDR = %s\" % n\n",
    "    else:\n",
    "        x = prodDigits(n)\n",
    "        return MDR(x)\n",
    "    \n",
    "def MPersistence(n, count=0):\n",
    "    \n",
    "    if n//10 == 0:\n",
    "        return \"MPersistence = %s\" %  count\n",
    "        \n",
    "    else:\n",
    "        x = prodDigits(n)\n",
    "        return MPersistence(x,count+1)\n",
    "    \n",
    "\n",
    "    \n",
    "print(MDR(n))\n",
    "print(MPersistence(n))\n",
    "    "
   ]
  },
  {
   "cell_type": "markdown",
   "metadata": {},
   "source": [
    "## 9. Write a function sumPdivisors() that finds the sum of proper divisors of a number. Proper divisors of a number are those numbers by which the number is divisible, except the number itself. For example proper divisors of 36 are 1, 2, 3, 4, 6, 9, 18"
   ]
  },
  {
   "cell_type": "code",
   "execution_count": 33,
   "metadata": {},
   "outputs": [
    {
     "name": "stdout",
     "output_type": "stream",
     "text": [
      "Enter a number...\n",
      "36\n",
      "1\n",
      "2\n",
      "3\n",
      "4\n",
      "6\n",
      "9\n",
      "12\n",
      "18\n"
     ]
    }
   ],
   "source": [
    "n = int(input(\"Enter a number...\\n\"))\n",
    "def printDivisors(n): \n",
    "    i=1\n",
    "    while i<=n-1: \n",
    "        if n%i == 0: \n",
    "            print(i)\n",
    "        i = i + 1\n",
    "        \n",
    "printDivisors(n)"
   ]
  },
  {
   "cell_type": "markdown",
   "metadata": {},
   "source": [
    "## 10. A number is called perfect if the sum of proper divisors of that number is equal to the number. For example 28 is perfect number, since 1+2+4+7+14=28. Write a program to print all the perfect numbers in a given range"
   ]
  },
  {
   "cell_type": "code",
   "execution_count": 47,
   "metadata": {},
   "outputs": [
    {
     "name": "stdout",
     "output_type": "stream",
     "text": [
      "6 28 "
     ]
    }
   ],
   "source": [
    "def printDivisors(n): \n",
    "    i=1\n",
    "    lst = []\n",
    "    while i<=n-1: \n",
    "        if n%i == 0: \n",
    "            lst.append(i)\n",
    "        i = i + 1\n",
    "    return lst\n",
    "        \n",
    "\n",
    "\n",
    "def isPerfect(n):\n",
    "    sum=0\n",
    "    lst = printDivisors(n)\n",
    "    for i in lst:\n",
    "        sum=sum+i\n",
    "    \n",
    "    if sum==n:\n",
    "        return 1\n",
    "    else:\n",
    "        return 0\n",
    "    \n",
    "    \n",
    "    \n",
    "def perfRange(l,u):\n",
    "    \n",
    "    while l<=u:\n",
    "        if isPerfect(l) == 1:\n",
    "            print(l,end=\" \")\n",
    "        l=l+1\n",
    "            \n",
    "    \n",
    "\n",
    "perfRange(1,100)"
   ]
  },
  {
   "cell_type": "markdown",
   "metadata": {},
   "source": [
    "## 11. Two different numbers are called amicable numbers if the sum of the proper divisors of each is equal to the other number.Write a function to print pairs of amicable numbers in a range"
   ]
  },
  {
   "cell_type": "code",
   "execution_count": null,
   "metadata": {},
   "outputs": [],
   "source": []
  },
  {
   "cell_type": "markdown",
   "metadata": {},
   "source": [
    "## 12. Write a program which can filter odd numbers in a list by using filter function"
   ]
  },
  {
   "cell_type": "code",
   "execution_count": 50,
   "metadata": {},
   "outputs": [
    {
     "name": "stdout",
     "output_type": "stream",
     "text": [
      "[21, 45, 93, 11]\n"
     ]
    }
   ],
   "source": [
    "lst = [10, 21, 4, 45, 66, 93, 11]  \n",
    "  \n",
    " \n",
    "odd_numbers = list(filter(lambda x: (x % 2 != 0), lst))\n",
    "\n",
    "print(odd_numbers)"
   ]
  },
  {
   "cell_type": "markdown",
   "metadata": {},
   "source": [
    "## 13. Write a program which can map() to make a list whose elements are cube of elements in a given list"
   ]
  },
  {
   "cell_type": "code",
   "execution_count": 52,
   "metadata": {},
   "outputs": [
    {
     "name": "stdout",
     "output_type": "stream",
     "text": [
      "[125, 1, 729, 343, 19683, 216, 8, 27, 64]\n"
     ]
    }
   ],
   "source": [
    "lst = [5, 1, 9, 7, 27, 6, 2, 3, 4] \n",
    "\n",
    "cube_list = list(map(lambda x: x**3 , lst)) \n",
    "print(cube_list) "
   ]
  },
  {
   "cell_type": "markdown",
   "metadata": {},
   "source": [
    "## 14. Write a program which can map() and filter() to make a list whose elements are cube of even number in a given list"
   ]
  },
  {
   "cell_type": "code",
   "execution_count": 53,
   "metadata": {},
   "outputs": [
    {
     "name": "stdout",
     "output_type": "stream",
     "text": [
      "[216, 8, 64, 512]\n"
     ]
    }
   ],
   "source": [
    "lst = [5, 1, 9, 7, 27, 6, 2, 3, 4, 8] \n",
    "\n",
    "cube_even_list = list(map(lambda x: x**3 , list(filter(lambda x: (x % 2 == 0), lst)))) \n",
    "print(cube_even_list) "
   ]
  },
  {
   "cell_type": "code",
   "execution_count": null,
   "metadata": {},
   "outputs": [],
   "source": []
  }
 ],
 "metadata": {
  "kernelspec": {
   "display_name": "Python 3",
   "language": "python",
   "name": "python3"
  },
  "language_info": {
   "codemirror_mode": {
    "name": "ipython",
    "version": 3
   },
   "file_extension": ".py",
   "mimetype": "text/x-python",
   "name": "python",
   "nbconvert_exporter": "python",
   "pygments_lexer": "ipython3",
   "version": "3.7.0"
  }
 },
 "nbformat": 4,
 "nbformat_minor": 2
}
